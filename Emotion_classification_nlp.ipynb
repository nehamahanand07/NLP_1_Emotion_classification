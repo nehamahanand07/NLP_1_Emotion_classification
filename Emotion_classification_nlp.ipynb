{
 "cells": [
  {
   "cell_type": "code",
   "execution_count": 1,
   "id": "84d3e0fe",
   "metadata": {},
   "outputs": [],
   "source": [
    "import pandas as pd\n",
    "import numpy as np\n",
    "import seaborn as sns\n",
    "import matplotlib.pyplot as plt\n",
    "import re\n",
    "import nltk\n"
   ]
  },
  {
   "cell_type": "code",
   "execution_count": 2,
   "id": "0efc5f3e",
   "metadata": {},
   "outputs": [
    {
     "name": "stdout",
     "output_type": "stream",
     "text": [
      "                                                sentence    label\n",
      "0                                i didnt feel humiliated  sadness\n",
      "1      i can go from feeling so hopeless to so damned...  sadness\n",
      "2       im grabbing a minute to post i feel greedy wrong    anger\n",
      "3      i am ever feeling nostalgic about the fireplac...     love\n",
      "4                                   i am feeling grouchy    anger\n",
      "...                                                  ...      ...\n",
      "15995  i just had a very brief time in the beanbag an...  sadness\n",
      "15996  i am now turning and i feel pathetic that i am...  sadness\n",
      "15997                     i feel strong and good overall      joy\n",
      "15998  i feel like this was such a rude comment and i...    anger\n",
      "15999  i know a lot but i feel so stupid because i ca...  sadness\n",
      "\n",
      "[16000 rows x 2 columns]\n",
      "                                               sentence    label\n",
      "0     im feeling rather rotten so im not very ambiti...  sadness\n",
      "1             im updating my blog because i feel shitty  sadness\n",
      "2     i never make her separate from me because i do...  sadness\n",
      "3     i left with my bouquet of red and yellow tulip...      joy\n",
      "4       i was feeling a little vain when i did this one  sadness\n",
      "...                                                 ...      ...\n",
      "1995  i just keep feeling like someone is being unki...    anger\n",
      "1996  im feeling a little cranky negative after this...    anger\n",
      "1997  i feel that i am useful to my people and that ...      joy\n",
      "1998  im feeling more comfortable with derby i feel ...      joy\n",
      "1999  i feel all weird when i have to meet w people ...     fear\n",
      "\n",
      "[2000 rows x 2 columns]\n",
      "                                               sentence    label\n",
      "0     im feeling quite sad and sorry for myself but ...  sadness\n",
      "1     i feel like i am still looking at a blank canv...  sadness\n",
      "2                        i feel like a faithful servant     love\n",
      "3                     i am just feeling cranky and blue    anger\n",
      "4     i can have for a treat or if i am feeling festive      joy\n",
      "...                                                 ...      ...\n",
      "1995  im having ssa examination tomorrow in the morn...  sadness\n",
      "1996  i constantly worry about their fight against n...      joy\n",
      "1997  i feel its important to share this info for th...      joy\n",
      "1998  i truly feel that if you are passionate enough...      joy\n",
      "1999  i feel like i just wanna buy any cute make up ...      joy\n",
      "\n",
      "[2000 rows x 2 columns]\n"
     ]
    }
   ],
   "source": [
    "#converting to dataframes AND encoding ='ISO-8859-1' to read different language or emotions\n",
    "\n",
    "df_train = pd.read_csv(\"train.txt\",delimiter=';', header=None, names=['sentence','label'],encoding='ISO-8859-1')\n",
    "print(df_train)\n",
    "\n",
    "df_test = pd.read_csv(\"test.txt\",delimiter=';', header=None, names=['sentence','label'],encoding='ISO-8859-1')\n",
    "print(df_test)\n",
    "\n",
    "df_val = pd.read_csv(\"val.txt\",delimiter=';', header=None, names=['sentence','label'],encoding='ISO-8859-1')\n",
    "print(df_val)\n",
    "\n"
   ]
  },
  {
   "cell_type": "code",
   "execution_count": 3,
   "id": "1a3cfa86",
   "metadata": {},
   "outputs": [
    {
     "data": {
      "text/html": [
       "<div>\n",
       "<style scoped>\n",
       "    .dataframe tbody tr th:only-of-type {\n",
       "        vertical-align: middle;\n",
       "    }\n",
       "\n",
       "    .dataframe tbody tr th {\n",
       "        vertical-align: top;\n",
       "    }\n",
       "\n",
       "    .dataframe thead th {\n",
       "        text-align: right;\n",
       "    }\n",
       "</style>\n",
       "<table border=\"1\" class=\"dataframe\">\n",
       "  <thead>\n",
       "    <tr style=\"text-align: right;\">\n",
       "      <th></th>\n",
       "      <th>sentence</th>\n",
       "      <th>label</th>\n",
       "    </tr>\n",
       "  </thead>\n",
       "  <tbody>\n",
       "    <tr>\n",
       "      <th>0</th>\n",
       "      <td>i didnt feel humiliated</td>\n",
       "      <td>sadness</td>\n",
       "    </tr>\n",
       "    <tr>\n",
       "      <th>1</th>\n",
       "      <td>i can go from feeling so hopeless to so damned...</td>\n",
       "      <td>sadness</td>\n",
       "    </tr>\n",
       "    <tr>\n",
       "      <th>2</th>\n",
       "      <td>im grabbing a minute to post i feel greedy wrong</td>\n",
       "      <td>anger</td>\n",
       "    </tr>\n",
       "    <tr>\n",
       "      <th>3</th>\n",
       "      <td>i am ever feeling nostalgic about the fireplac...</td>\n",
       "      <td>love</td>\n",
       "    </tr>\n",
       "    <tr>\n",
       "      <th>4</th>\n",
       "      <td>i am feeling grouchy</td>\n",
       "      <td>anger</td>\n",
       "    </tr>\n",
       "    <tr>\n",
       "      <th>...</th>\n",
       "      <td>...</td>\n",
       "      <td>...</td>\n",
       "    </tr>\n",
       "    <tr>\n",
       "      <th>19995</th>\n",
       "      <td>im having ssa examination tomorrow in the morn...</td>\n",
       "      <td>sadness</td>\n",
       "    </tr>\n",
       "    <tr>\n",
       "      <th>19996</th>\n",
       "      <td>i constantly worry about their fight against n...</td>\n",
       "      <td>joy</td>\n",
       "    </tr>\n",
       "    <tr>\n",
       "      <th>19997</th>\n",
       "      <td>i feel its important to share this info for th...</td>\n",
       "      <td>joy</td>\n",
       "    </tr>\n",
       "    <tr>\n",
       "      <th>19998</th>\n",
       "      <td>i truly feel that if you are passionate enough...</td>\n",
       "      <td>joy</td>\n",
       "    </tr>\n",
       "    <tr>\n",
       "      <th>19999</th>\n",
       "      <td>i feel like i just wanna buy any cute make up ...</td>\n",
       "      <td>joy</td>\n",
       "    </tr>\n",
       "  </tbody>\n",
       "</table>\n",
       "<p>20000 rows × 2 columns</p>\n",
       "</div>"
      ],
      "text/plain": [
       "                                                sentence    label\n",
       "0                                i didnt feel humiliated  sadness\n",
       "1      i can go from feeling so hopeless to so damned...  sadness\n",
       "2       im grabbing a minute to post i feel greedy wrong    anger\n",
       "3      i am ever feeling nostalgic about the fireplac...     love\n",
       "4                                   i am feeling grouchy    anger\n",
       "...                                                  ...      ...\n",
       "19995  im having ssa examination tomorrow in the morn...  sadness\n",
       "19996  i constantly worry about their fight against n...      joy\n",
       "19997  i feel its important to share this info for th...      joy\n",
       "19998  i truly feel that if you are passionate enough...      joy\n",
       "19999  i feel like i just wanna buy any cute make up ...      joy\n",
       "\n",
       "[20000 rows x 2 columns]"
      ]
     },
     "execution_count": 3,
     "metadata": {},
     "output_type": "execute_result"
    }
   ],
   "source": [
    "#combining data_frames\n",
    "combined_df = pd.concat([df_train, df_test,df_val], axis=0, ignore_index=True)\n",
    "combined_df\n"
   ]
  },
  {
   "cell_type": "code",
   "execution_count": 4,
   "id": "2a678a13",
   "metadata": {},
   "outputs": [
    {
     "data": {
      "text/html": [
       "<div>\n",
       "<style scoped>\n",
       "    .dataframe tbody tr th:only-of-type {\n",
       "        vertical-align: middle;\n",
       "    }\n",
       "\n",
       "    .dataframe tbody tr th {\n",
       "        vertical-align: top;\n",
       "    }\n",
       "\n",
       "    .dataframe thead th {\n",
       "        text-align: right;\n",
       "    }\n",
       "</style>\n",
       "<table border=\"1\" class=\"dataframe\">\n",
       "  <thead>\n",
       "    <tr style=\"text-align: right;\">\n",
       "      <th></th>\n",
       "      <th>sentence</th>\n",
       "      <th>label</th>\n",
       "    </tr>\n",
       "  </thead>\n",
       "  <tbody>\n",
       "    <tr>\n",
       "      <th>0</th>\n",
       "      <td>i didnt feel humiliated</td>\n",
       "      <td>sadness</td>\n",
       "    </tr>\n",
       "    <tr>\n",
       "      <th>1</th>\n",
       "      <td>i can go from feeling so hopeless to so damned...</td>\n",
       "      <td>sadness</td>\n",
       "    </tr>\n",
       "    <tr>\n",
       "      <th>2</th>\n",
       "      <td>im grabbing a minute to post i feel greedy wrong</td>\n",
       "      <td>anger</td>\n",
       "    </tr>\n",
       "    <tr>\n",
       "      <th>3</th>\n",
       "      <td>i am ever feeling nostalgic about the fireplac...</td>\n",
       "      <td>love</td>\n",
       "    </tr>\n",
       "    <tr>\n",
       "      <th>4</th>\n",
       "      <td>i am feeling grouchy</td>\n",
       "      <td>anger</td>\n",
       "    </tr>\n",
       "  </tbody>\n",
       "</table>\n",
       "</div>"
      ],
      "text/plain": [
       "                                            sentence    label\n",
       "0                            i didnt feel humiliated  sadness\n",
       "1  i can go from feeling so hopeless to so damned...  sadness\n",
       "2   im grabbing a minute to post i feel greedy wrong    anger\n",
       "3  i am ever feeling nostalgic about the fireplac...     love\n",
       "4                               i am feeling grouchy    anger"
      ]
     },
     "execution_count": 4,
     "metadata": {},
     "output_type": "execute_result"
    }
   ],
   "source": [
    "combined_df.head()"
   ]
  },
  {
   "cell_type": "code",
   "execution_count": 5,
   "id": "cea45b27",
   "metadata": {},
   "outputs": [
    {
     "data": {
      "text/html": [
       "<div>\n",
       "<style scoped>\n",
       "    .dataframe tbody tr th:only-of-type {\n",
       "        vertical-align: middle;\n",
       "    }\n",
       "\n",
       "    .dataframe tbody tr th {\n",
       "        vertical-align: top;\n",
       "    }\n",
       "\n",
       "    .dataframe thead th {\n",
       "        text-align: right;\n",
       "    }\n",
       "</style>\n",
       "<table border=\"1\" class=\"dataframe\">\n",
       "  <thead>\n",
       "    <tr style=\"text-align: right;\">\n",
       "      <th></th>\n",
       "      <th>sentence</th>\n",
       "      <th>label</th>\n",
       "    </tr>\n",
       "  </thead>\n",
       "  <tbody>\n",
       "    <tr>\n",
       "      <th>19995</th>\n",
       "      <td>im having ssa examination tomorrow in the morn...</td>\n",
       "      <td>sadness</td>\n",
       "    </tr>\n",
       "    <tr>\n",
       "      <th>19996</th>\n",
       "      <td>i constantly worry about their fight against n...</td>\n",
       "      <td>joy</td>\n",
       "    </tr>\n",
       "    <tr>\n",
       "      <th>19997</th>\n",
       "      <td>i feel its important to share this info for th...</td>\n",
       "      <td>joy</td>\n",
       "    </tr>\n",
       "    <tr>\n",
       "      <th>19998</th>\n",
       "      <td>i truly feel that if you are passionate enough...</td>\n",
       "      <td>joy</td>\n",
       "    </tr>\n",
       "    <tr>\n",
       "      <th>19999</th>\n",
       "      <td>i feel like i just wanna buy any cute make up ...</td>\n",
       "      <td>joy</td>\n",
       "    </tr>\n",
       "  </tbody>\n",
       "</table>\n",
       "</div>"
      ],
      "text/plain": [
       "                                                sentence    label\n",
       "19995  im having ssa examination tomorrow in the morn...  sadness\n",
       "19996  i constantly worry about their fight against n...      joy\n",
       "19997  i feel its important to share this info for th...      joy\n",
       "19998  i truly feel that if you are passionate enough...      joy\n",
       "19999  i feel like i just wanna buy any cute make up ...      joy"
      ]
     },
     "execution_count": 5,
     "metadata": {},
     "output_type": "execute_result"
    }
   ],
   "source": [
    "combined_df.tail()"
   ]
  },
  {
   "cell_type": "code",
   "execution_count": 6,
   "id": "bafd9c0f",
   "metadata": {},
   "outputs": [
    {
     "data": {
      "text/plain": [
       "sentence    object\n",
       "label       object\n",
       "dtype: object"
      ]
     },
     "execution_count": 6,
     "metadata": {},
     "output_type": "execute_result"
    }
   ],
   "source": [
    "combined_df.dtypes"
   ]
  },
  {
   "cell_type": "code",
   "execution_count": 7,
   "id": "cfb8060b",
   "metadata": {},
   "outputs": [
    {
     "data": {
      "text/plain": [
       "label\n",
       "joy         6761\n",
       "sadness     5797\n",
       "anger       2709\n",
       "fear        2373\n",
       "love        1641\n",
       "surprise     719\n",
       "Name: count, dtype: int64"
      ]
     },
     "execution_count": 7,
     "metadata": {},
     "output_type": "execute_result"
    }
   ],
   "source": [
    "combined_df['label'].value_counts()"
   ]
  },
  {
   "cell_type": "code",
   "execution_count": 13,
   "id": "a53d360a",
   "metadata": {},
   "outputs": [
    {
     "name": "stderr",
     "output_type": "stream",
     "text": [
      "C:\\Users\\neham\\AppData\\Local\\Temp\\ipykernel_292\\1873764906.py:8: FutureWarning: \n",
      "\n",
      "Passing `palette` without assigning `hue` is deprecated and will be removed in v0.14.0. Assign the `x` variable to `hue` and set `legend=False` for the same effect.\n",
      "\n",
      "  sns.barplot(x='Label', y='Count', data=label_counts, palette='pastel')\n"
     ]
    },
    {
     "data": {
      "image/png": "[encoded data removed]",
      "text/plain": [
       "<Figure size 600x400 with 1 Axes>"
      ]
     },
     "metadata": {},
     "output_type": "display_data"
    }
   ],
   "source": [
    "# Plot\n",
    "\n",
    "label_counts = combined_df['label'].value_counts().reset_index()\n",
    "label_counts.columns = ['Label', 'Count']\n",
    "\n",
    "# Plot\n",
    "plt.figure(figsize=(6, 4))\n",
    "sns.barplot(x='Label', y='Count', data=label_counts, palette='pastel')\n",
    "plt.title(\"Label Distribution\")\n",
    "plt.grid(axis='y', linestyle='--', alpha=0.7)\n",
    "\n",
    "# Optional: add value labels above bars\n",
    "for i, row in label_counts.iterrows():\n",
    "    plt.text(i, row['Count'] + 1, int(row['Count']), ha='center')\n",
    "\n",
    "plt.tight_layout()\n",
    "plt.show()"
   ]
  },
  {
   "cell_type": "code",
   "execution_count": 15,
   "id": "c3468b01",
   "metadata": {},
   "outputs": [
    {
     "name": "stderr",
     "output_type": "stream",
     "text": [
      "C:\\Users\\neham\\AppData\\Local\\Temp\\ipykernel_292\\2828597390.py:14: FutureWarning: \n",
      "\n",
      "Passing `palette` without assigning `hue` is deprecated and will be removed in v0.14.0. Assign the `x` variable to `hue` and set `legend=False` for the same effect.\n",
      "\n",
      "  sns.barplot(x='Label', y='Count', data=label_counts, palette='pastel')\n"
     ]
    },
    {
     "data": {
      "image/png": "[encoded data removed]",
      "text/plain": [
       "<Figure size 600x400 with 1 Axes>"
      ]
     },
     "metadata": {},
     "output_type": "display_data"
    }
   ],
   "source": [
    "#we can drop love and surprise due to less number, also there will be indexing issue so correct it here \n",
    "\n",
    "combined_df.drop(combined_df.index[combined_df['label'].isin(['love','surprise'])], axis=0, inplace=True) #dropping rows (axis=0) with love and surprise label\n",
    "combined_df.reset_index(drop=True,inplace=True)   #indexing correction\n",
    "    \n",
    "\n",
    "# Plot\n",
    "\n",
    "label_counts = combined_df['label'].value_counts().reset_index()\n",
    "label_counts.columns = ['Label', 'Count']\n",
    "\n",
    "# Plot\n",
    "plt.figure(figsize=(6, 4))\n",
    "sns.barplot(x='Label', y='Count', data=label_counts, palette='pastel')\n",
    "plt.title(\"Label Distribution\")\n",
    "plt.grid(axis='y', linestyle='--', alpha=0.7)\n",
    "\n",
    "# Optional: add value labels above bars\n",
    "for i, row in label_counts.iterrows():\n",
    "    plt.text(i, row['Count'] + 1, int(row['Count']), ha='center')\n",
    "\n",
    "plt.tight_layout()\n",
    "plt.show()\n",
    "    \n"
   ]
  },
  {
   "cell_type": "code",
   "execution_count": 16,
   "id": "06d41756",
   "metadata": {},
   "outputs": [
    {
     "name": "stdout",
     "output_type": "stream",
     "text": [
      "                                                sentence  label\n",
      "0                                i didnt feel humiliated      2\n",
      "1      i can go from feeling so hopeless to so damned...      2\n",
      "2       im grabbing a minute to post i feel greedy wrong      1\n",
      "3                                   i am feeling grouchy      1\n",
      "4      ive been feeling a little burdened lately wasn...      2\n",
      "...                                                  ...    ...\n",
      "17635  im having ssa examination tomorrow in the morn...      2\n",
      "17636  i constantly worry about their fight against n...      3\n",
      "17637  i feel its important to share this info for th...      3\n",
      "17638  i truly feel that if you are passionate enough...      3\n",
      "17639  i feel like i just wanna buy any cute make up ...      3\n",
      "\n",
      "[17640 rows x 2 columns]\n"
     ]
    }
   ],
   "source": [
    "#STEP 3: ASSIGING VALUES TO LABELS USING MAP\n",
    "\n",
    "\n",
    "\n",
    "combined_df['label']=combined_df['label'].map({'fear':0,'anger':1,'sadness':2,'joy':3})\n",
    "print(combined_df)"
   ]
  },
  {
   "cell_type": "code",
   "execution_count": 79,
   "id": "66073860",
   "metadata": {},
   "outputs": [
    {
     "name": "stderr",
     "output_type": "stream",
     "text": [
      "[nltk_data] Downloading package stopwords to\n",
      "[nltk_data]     C:\\Users\\neham\\AppData\\Roaming\\nltk_data...\n",
      "[nltk_data]   Package stopwords is already up-to-date!\n",
      "[nltk_data] Downloading package punkt_tab to\n",
      "[nltk_data]     C:\\Users\\neham\\AppData\\Roaming\\nltk_data...\n",
      "[nltk_data]   Package punkt_tab is already up-to-date!\n",
      "[nltk_data] Downloading package wordnet to\n",
      "[nltk_data]     C:\\Users\\neham\\AppData\\Roaming\\nltk_data...\n",
      "[nltk_data]   Package wordnet is already up-to-date!\n",
      "[nltk_data] Downloading package omw-1.4 to\n",
      "[nltk_data]     C:\\Users\\neham\\AppData\\Roaming\\nltk_data...\n",
      "[nltk_data]   Package omw-1.4 is already up-to-date!\n"
     ]
    },
    {
     "data": {
      "text/plain": [
       "True"
      ]
     },
     "execution_count": 79,
     "metadata": {},
     "output_type": "execute_result"
    }
   ],
   "source": [
    "#STEP4: NLP ON SENTENCE COLUMN\n",
    "\n",
    "#RESOURCES downloading \n",
    "nltk.download('stopwords')\n",
    "nltk.download('punkt_tab')\n",
    "nltk.download('wordnet')\n",
    "nltk.download('omw-1.4')"
   ]
  },
  {
   "cell_type": "code",
   "execution_count": 17,
   "id": "fa94dd57",
   "metadata": {},
   "outputs": [
    {
     "data": {
      "text/plain": [
       "0                                  i didnt feel humiliated\n",
       "1        i can go from feeling so hopeless to so damned...\n",
       "2         im grabbing a minute to post i feel greedy wrong\n",
       "3                                     i am feeling grouchy\n",
       "4        ive been feeling a little burdened lately wasn...\n",
       "                               ...                        \n",
       "17635    im having ssa examination tomorrow in the morn...\n",
       "17636    i constantly worry about their fight against n...\n",
       "17637    i feel its important to share this info for th...\n",
       "17638    i truly feel that if you are passionate enough...\n",
       "17639    i feel like i just wanna buy any cute make up ...\n",
       "Name: sentence, Length: 17640, dtype: object"
      ]
     },
     "execution_count": 17,
     "metadata": {},
     "output_type": "execute_result"
    }
   ],
   "source": [
    "#assiging sentence to a variable df=df.sentence or\n",
    "\n",
    "emotions=combined_df['sentence']\n",
    "emotions\n"
   ]
  },
  {
   "cell_type": "code",
   "execution_count": 18,
   "id": "2204f88c",
   "metadata": {},
   "outputs": [
    {
     "data": {
      "text/plain": [
       "0                                  i didnt feel humiliated\n",
       "1        i can go from feeling so hopeless to so damned...\n",
       "2         im grabbing a minute to post i feel greedy wrong\n",
       "3                                     i am feeling grouchy\n",
       "4        ive been feeling a little burdened lately wasn...\n",
       "                               ...                        \n",
       "17635    im having ssa examination tomorrow in the morn...\n",
       "17636    i constantly worry about their fight against n...\n",
       "17637    i feel its important to share this info for th...\n",
       "17638    i truly feel that if you are passionate enough...\n",
       "17639    i feel like i just wanna buy any cute make up ...\n",
       "Name: sentence, Length: 17640, dtype: object"
      ]
     },
     "execution_count": 18,
     "metadata": {},
     "output_type": "execute_result"
    }
   ],
   "source": [
    "#STEP 5: TOKENIZATION\n",
    "\n",
    "from nltk.tokenize import TweetTokenizer\n",
    "tk=TweetTokenizer()\n",
    "emotions=emotions.apply(lambda x:tk.tokenize(x)).apply(lambda x:\" \".join(x))\n",
    "emotions"
   ]
  },
  {
   "cell_type": "code",
   "execution_count": 19,
   "id": "061dc544",
   "metadata": {},
   "outputs": [
    {
     "data": {
      "text/plain": [
       "0                                  i didnt feel humiliated\n",
       "1        i can go from feeling so hopeless to so damned...\n",
       "2         im grabbing a minute to post i feel greedy wrong\n",
       "3                                     i am feeling grouchy\n",
       "4        ive been feeling a little burdened lately wasn...\n",
       "                               ...                        \n",
       "17635    im having ssa examination tomorrow in the morn...\n",
       "17636    i constantly worry about their fight against n...\n",
       "17637    i feel its important to share this info for th...\n",
       "17638    i truly feel that if you are passionate enough...\n",
       "17639    i feel like i just wanna buy any cute make up ...\n",
       "Name: sentence, Length: 17640, dtype: object"
      ]
     },
     "execution_count": 19,
     "metadata": {},
     "output_type": "execute_result"
    }
   ],
   "source": [
    "#STEP6: REPLACE SPECIAL CHARACTERS USING SPACE IF ANY\n",
    "emotions=emotions.str.replace('[^a-zA-Z0-9]',' ',regex=True)\n",
    "emotions"
   ]
  },
  {
   "cell_type": "code",
   "execution_count": 20,
   "id": "e40581f7",
   "metadata": {},
   "outputs": [
    {
     "data": {
      "text/plain": [
       "0                                    didnt feel humiliated\n",
       "1        can from feeling hopeless damned hopeful just ...\n",
       "2                   grabbing minute post feel greedy wrong\n",
       "3                                          feeling grouchy\n",
       "4        ive been feeling little burdened lately wasnt ...\n",
       "                               ...                        \n",
       "17635    having ssa examination tomorrow the morning qu...\n",
       "17636    constantly worry about their fight against nat...\n",
       "17637    feel its important share this info for those t...\n",
       "17638    truly feel that you are passionate enough abou...\n",
       "17639    feel like just wanna buy any cute make see onl...\n",
       "Name: sentence, Length: 17640, dtype: object"
      ]
     },
     "execution_count": 20,
     "metadata": {},
     "output_type": "execute_result"
    }
   ],
   "source": [
    "#STEP 7: COLLECTING WORDS ABOVE LENGTH 3\n",
    "\n",
    "emotions=emotions.apply(lambda x:' '.join([w for w in tk.tokenize(x) if len(w)>=3]))\n",
    "emotions"
   ]
  },
  {
   "cell_type": "code",
   "execution_count": 21,
   "id": "dc5e1037",
   "metadata": {},
   "outputs": [
    {
     "name": "stdout",
     "output_type": "stream",
     "text": [
      "0                                        didnt feel humili\n",
      "1        can from feel hopeless damn hope just from be ...\n",
      "2                        grab minut post feel greedi wrong\n",
      "3                                             feel grouchi\n",
      "4        ive been feel littl burden late wasnt sure whi...\n",
      "                               ...                        \n",
      "17635    have ssa examin tomorrow the morn quit well pr...\n",
      "17636    constant worri about their fight against natur...\n",
      "17637    feel it import share this info for those that ...\n",
      "17638    truli feel that you are passion enough about s...\n",
      "17639    feel like just wanna buy ani cute make see onl...\n",
      "Name: sentence, Length: 17640, dtype: object\n"
     ]
    }
   ],
   "source": [
    "#STEP7: STEMMING and LOWERCASE CONVERTION\n",
    "from nltk.stem import SnowballStemmer\n",
    "stemmer=SnowballStemmer('english')\n",
    "\n",
    "emotions=emotions.apply(lambda x:[stemmer.stem(i.lower()) for i in tk.tokenize(x)]).apply(lambda x:' '.join(x))\n",
    "print(emotions)\n"
   ]
  },
  {
   "cell_type": "code",
   "execution_count": 22,
   "id": "b76faeb5",
   "metadata": {},
   "outputs": [
    {
     "name": "stdout",
     "output_type": "stream",
     "text": [
      "0                                        didnt feel humili\n",
      "1          feel hopeless damn hope around someon care awak\n",
      "2                        grab minut post feel greedi wrong\n",
      "3                                             feel grouchi\n",
      "4                ive feel littl burden late wasnt sure whi\n",
      "                               ...                        \n",
      "17635    ssa examin tomorrow morn quit well prepar come...\n",
      "17636    constant worri fight natur push limit inner bo...\n",
      "17637                  feel import share info experi thing\n",
      "17638    truli feel passion enough someth stay true suc...\n",
      "17639    feel like wanna buy ani cute make see onlin ev...\n",
      "Name: sentence, Length: 17640, dtype: object\n"
     ]
    }
   ],
   "source": [
    "#STEP8: STOP WORD REMOVAL\n",
    "from nltk.corpus import stopwords\n",
    "stop=stopwords.words('english')\n",
    "\n",
    "emotions=emotions.apply(lambda x:[i for i in tk.tokenize(x) if i not in stop]).apply(lambda x:' '.join(x))\n",
    "print(emotions)\n"
   ]
  },
  {
   "cell_type": "code",
   "execution_count": 23,
   "id": "cc409051",
   "metadata": {},
   "outputs": [
    {
     "data": {
      "text/plain": [
       "<Compressed Sparse Row sparse matrix of dtype 'float64'\n",
       "\twith 156377 stored elements and shape (17640, 10404)>"
      ]
     },
     "execution_count": 23,
     "metadata": {},
     "output_type": "execute_result"
    }
   ],
   "source": [
    "#STEP 9: VECTORIZATION\n",
    "from sklearn.feature_extraction.text import TfidfVectorizer\n",
    "vec=TfidfVectorizer()\n",
    "data=vec.fit_transform(emotions)\n",
    "data\n"
   ]
  },
  {
   "cell_type": "code",
   "execution_count": 24,
   "id": "988bcd2d",
   "metadata": {},
   "outputs": [
    {
     "name": "stdout",
     "output_type": "stream",
     "text": [
      "[2 2 1 ... 3 3 3]\n"
     ]
    }
   ],
   "source": [
    "#STEP 10: output df\n",
    "y=combined_df['label'].values\n",
    "print(y)\n"
   ]
  },
  {
   "cell_type": "code",
   "execution_count": 25,
   "id": "9d3875f3",
   "metadata": {},
   "outputs": [],
   "source": [
    "#input===> data_train, data_test\n",
    "#output===>y_train, y_test\n",
    "\n",
    "#STEP 11: MODEL CREATION SPLITTING x and y\n",
    "#MODEL CLASSIFICATION USING SUPERVISED ML DIFF ALGORITHMS\n",
    "\n",
    "#STEP 7: SPLITTING DATA INTO TRAINING AND TESTING DATA\n",
    "from sklearn.model_selection import train_test_split, GridSearchCV\n",
    "x_train,x_test,y_train,y_test=train_test_split(data,y,test_size=0.30,random_state=42)\n",
    "\n"
   ]
  },
  {
   "cell_type": "code",
   "execution_count": 30,
   "id": "e7bb27e4",
   "metadata": {},
   "outputs": [
    {
     "data": {
      "text/plain": [
       "array([3, 3, 2, ..., 1, 2, 1], shape=(5292,))"
      ]
     },
     "execution_count": 30,
     "metadata": {},
     "output_type": "execute_result"
    }
   ],
   "source": [
    "y_test"
   ]
  },
  {
   "cell_type": "code",
   "execution_count": 31,
   "id": "cc642b9f",
   "metadata": {},
   "outputs": [
    {
     "name": "stdout",
     "output_type": "stream",
     "text": [
      "\n",
      "Model: Logistic Regression\n",
      "Accuracy: 0.8832199546485261\n",
      "Classification Report:\n",
      "               precision    recall  f1-score   support\n",
      "\n",
      "         joy       0.90      0.75      0.82       744\n",
      "     sadness       0.90      0.75      0.82       781\n",
      "       anger       0.89      0.91      0.90      1761\n",
      "        fear       0.87      0.96      0.91      2006\n",
      "\n",
      "    accuracy                           0.88      5292\n",
      "   macro avg       0.89      0.84      0.86      5292\n",
      "weighted avg       0.88      0.88      0.88      5292\n",
      "\n",
      "Confusion Matrix:\n",
      " [[1922   61   12   11]\n",
      " [  97 1611   31   22]\n",
      " [  93   77  585   26]\n",
      " [  99   69   20  556]]\n"
     ]
    },
    {
     "data": {
      "image/png": "[encoded data removed]",
      "text/plain": [
       "<Figure size 640x480 with 2 Axes>"
      ]
     },
     "metadata": {},
     "output_type": "display_data"
    },
    {
     "name": "stdout",
     "output_type": "stream",
     "text": [
      "\n",
      "Model: KNN\n",
      "Accuracy: 0.8063114134542706\n",
      "Classification Report:\n",
      "               precision    recall  f1-score   support\n",
      "\n",
      "         joy       0.77      0.75      0.76       744\n",
      "     sadness       0.73      0.74      0.73       781\n",
      "       anger       0.80      0.83      0.81      1761\n",
      "        fear       0.86      0.83      0.85      2006\n",
      "\n",
      "    accuracy                           0.81      5292\n",
      "   macro avg       0.79      0.79      0.79      5292\n",
      "weighted avg       0.81      0.81      0.81      5292\n",
      "\n",
      "Confusion Matrix:\n",
      " [[1674  189   79   64]\n",
      " [ 139 1456   96   70]\n",
      " [  66  102  576   37]\n",
      " [  68   77   38  561]]\n"
     ]
    },
    {
     "data": {
      "image/png": "[encoded data removed]",
      "text/plain": [
       "<Figure size 640x480 with 2 Axes>"
      ]
     },
     "metadata": {},
     "output_type": "display_data"
    },
    {
     "name": "stdout",
     "output_type": "stream",
     "text": [
      "\n",
      "Model: SVC\n",
      "Accuracy: 0.877739984882842\n",
      "Classification Report:\n",
      "               precision    recall  f1-score   support\n",
      "\n",
      "         joy       0.92      0.73      0.81       744\n",
      "     sadness       0.88      0.75      0.81       781\n",
      "       anger       0.89      0.91      0.90      1761\n",
      "        fear       0.86      0.96      0.91      2006\n",
      "\n",
      "    accuracy                           0.88      5292\n",
      "   macro avg       0.89      0.84      0.86      5292\n",
      "weighted avg       0.88      0.88      0.88      5292\n",
      "\n",
      "Confusion Matrix:\n",
      " [[1918   53   19   16]\n",
      " [ 105 1595   37   24]\n",
      " [ 101   84  587    9]\n",
      " [ 104   70   25  545]]\n"
     ]
    },
    {
     "data": {
      "image/png": "[encoded data removed]",
      "text/plain": [
       "<Figure size 640x480 with 2 Axes>"
      ]
     },
     "metadata": {},
     "output_type": "display_data"
    }
   ],
   "source": [
    "from sklearn.linear_model import LogisticRegression\n",
    "from sklearn.neighbors import KNeighborsClassifier\n",
    "from sklearn.svm import SVC\n",
    "from sklearn.metrics import accuracy_score, classification_report, confusion_matrix, ConfusionMatrixDisplay\n",
    "import matplotlib.pyplot as plt\n",
    "\n",
    "# emotion labels and their numeric order\n",
    "label_order = [3, 2, 1, 0]  # joy, sadness, anger, fear\n",
    "emotion_labels = ['joy', 'sadness', 'anger', 'fear']  # matches label_order\n",
    "\n",
    "models = {\n",
    "    \"Logistic Regression\": LogisticRegression(max_iter=1000),\n",
    "    \"KNN\": KNeighborsClassifier(),\n",
    "    \"SVC\": SVC()\n",
    "}\n",
    "\n",
    "results = {}\n",
    "\n",
    "for name, model in models.items():\n",
    "    model.fit(x_train, y_train)\n",
    "    y_preds = model.predict(x_test)\n",
    "\n",
    "    acc = accuracy_score(y_test, y_preds)\n",
    "    print(f\"\\nModel: {name}\")\n",
    "    print(\"Accuracy:\", acc)\n",
    "    print(\"Classification Report:\\n\", classification_report(y_test, y_preds, target_names=emotion_labels))\n",
    "    results[name] = acc\n",
    "\n",
    "    # Confusion matrix using predefined label order\n",
    "    cm = confusion_matrix(y_test, y_preds, labels=label_order)\n",
    "    print(\"Confusion Matrix:\\n\", cm)\n",
    "\n",
    "    # Display with correct emotion labels\n",
    "    cmd = ConfusionMatrixDisplay(confusion_matrix=cm, display_labels=emotion_labels)\n",
    "    cmd.plot(cmap='Blues')\n",
    "    plt.title(f\"Confusion Matrix - {name}\")\n",
    "    plt.show()\n"
   ]
  }
 ],
 "metadata": {
  "kernelspec": {
   "display_name": "Python 3",
   "language": "python",
   "name": "python3"
  },
  "language_info": {
   "codemirror_mode": {
    "name": "ipython",
    "version": 3
   },
   "file_extension": ".py",
   "mimetype": "text/x-python",
   "name": "python",
   "nbconvert_exporter": "python",
   "pygments_lexer": "ipython3",
   "version": "3.13.0"
  }
 },
 "nbformat": 4,
 "nbformat_minor": 5
}
